{
 "cells": [
  {
   "cell_type": "code",
   "execution_count": 5,
   "id": "70d53bc0-8b78-4ceb-8801-76b6dd70817a",
   "metadata": {},
   "outputs": [
    {
     "name": "stdout",
     "output_type": "stream",
     "text": [
      "Project Source: s3://mlrun/predictive-maintenance.zip\n",
      "Exporting project as zip archive to s3://mlrun/predictive-maintenance.zip...\n",
      "> 2025-09-01 19:25:56,900 [info] Project loaded successfully: {\"project_name\":\"predictive-maintenance\"}\n"
     ]
    }
   ],
   "source": [
    "import sys\n",
    "import os\n",
    "from pathlib import Path\n",
    "import itables\n",
    "import pandas as pd\n",
    "import datetime as dt\n",
    "\n",
    "itables.options.warn_on_undocumented_option = False\n",
    "\n",
    "DATA_DIR = \"data\"\n",
    "MLRUN_ENV_FILE = \"mlrun.env\"\n",
    "\n",
    "import mlrun\n",
    "from config.config import load_config\n",
    "\n",
    "pipeline_config = load_config(\"config/pipeline_config.yaml\")\n",
    "\n",
    "mlrun.set_env_from_file(MLRUN_ENV_FILE)\n",
    "\n",
    "project = mlrun.get_or_create_project(\n",
    "    \"predictive-maintenance\",\n",
    "    parameters={\n",
    "        \"source\": \"s3://mlrun/predictive-maintenance.zip\",\n",
    "        \"default_image\": \"felipenv/mlrun-oai:1.9\",\n",
    "    },\n",
    ")\n",
    "\n",
    "# project.set_secrets(\n",
    "#     secrets={\n",
    "#         \"PG_HOST\": \"optimus-postgres.mlrun.svc.cluster.local\",\n",
    "#         \"PG_USER\": \"optimus\",\n",
    "#         \"PG_PASSWORD\": \"optimus\",\n",
    "#         \"PG_DB\": \"optimus\",\n",
    "#     }\n",
    "# )"
   ]
  },
  {
   "cell_type": "markdown",
   "id": "8615d1e1-4d97-4c1b-8297-bf43b6781705",
   "metadata": {},
   "source": [
    "## 0. Log Datasets + Configs"
   ]
  },
  {
   "cell_type": "code",
   "execution_count": 6,
   "id": "442326d9-2fce-471b-b0c9-22af1add233d",
   "metadata": {},
   "outputs": [],
   "source": [
    "from datasetsforecast.phm2008 import PHM2008"
   ]
  },
  {
   "cell_type": "code",
   "execution_count": 7,
   "id": "3281f5c8-c6f6-4eed-bb6f-3ec038813456",
   "metadata": {},
   "outputs": [],
   "source": [
    "Y_train_df, Y_test_df = PHM2008.load(directory='./data', group='FD001', clip_rul=False)\n"
   ]
  },
  {
   "cell_type": "code",
   "execution_count": 8,
   "id": "9fc7a5d3-502c-401f-a4a6-0d40722ea046",
   "metadata": {},
   "outputs": [],
   "source": [
    "Y_train_df = project.log_dataset(\n",
    "    key=\"Y_train_df\", df=Y_train_df, format=\"csv\"\n",
    ")\n",
    "\n",
    "Y_test_df = project.log_dataset(\n",
    "    key=\"Y_test_df\", df=Y_test_df, format=\"csv\"\n",
    ")"
   ]
  },
  {
   "cell_type": "markdown",
   "id": "9332da63-1330-4e0c-93ca-08e812a80b9c",
   "metadata": {},
   "source": [
    "## 1. Preprocessing Function"
   ]
  },
  {
   "cell_type": "code",
   "execution_count": null,
   "id": "f7a7fed8-84a6-4316-b859-0b145ba4fe46",
   "metadata": {},
   "outputs": [],
   "source": []
  }
 ],
 "metadata": {
  "kernelspec": {
   "display_name": "mlrun",
   "language": "python",
   "name": "mlrun"
  },
  "language_info": {
   "codemirror_mode": {
    "name": "ipython",
    "version": 3
   },
   "file_extension": ".py",
   "mimetype": "text/x-python",
   "name": "python",
   "nbconvert_exporter": "python",
   "pygments_lexer": "ipython3",
   "version": "3.11.13"
  }
 },
 "nbformat": 4,
 "nbformat_minor": 5
}
